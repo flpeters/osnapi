{
 "cells": [
  {
   "cell_type": "code",
   "execution_count": null,
   "metadata": {},
   "outputs": [],
   "source": [
    "#hide\n",
    "import osnapi as api"
   ]
  },
  {
   "cell_type": "markdown",
   "metadata": {},
   "source": [
    "# osnapi\n",
    "\n",
    "> Summary description here."
   ]
  },
  {
   "cell_type": "markdown",
   "metadata": {},
   "source": [
    "The official documentation can be found here: https://www.opensense.network/progprak/beta/apidocs/#/ \n",
    "This file will become your README and also the index of your documentation."
   ]
  },
  {
   "cell_type": "markdown",
   "metadata": {},
   "source": [
    "## Install"
   ]
  },
  {
   "cell_type": "markdown",
   "metadata": {},
   "source": [
    "Put this whole folder in your project, and then do `import osnapi as api`.  \n",
    "`pip install your_project_name`"
   ]
  },
  {
   "cell_type": "markdown",
   "metadata": {},
   "source": [
    "## How to use"
   ]
  },
  {
   "cell_type": "markdown",
   "metadata": {},
   "source": [
    "if you want to use functions that require a login, use `api.login(username, password)`.\n",
    "After successfully logging in, the username and password you used, as well as the token that was returned by the server, are stored inside the `Settings` object.  \n",
    "The default api_enpoint is \"https://dep2.osn.k8s.ise-apps.de/api/v1.0\". It is also stored inside the `Settings` object.  \n",
    "Except for the api_endpoint, the other three Settings are not defined when you import the package.  "
   ]
  },
  {
   "cell_type": "markdown",
   "metadata": {},
   "source": [
    "> first pass on readme"
   ]
  }
 ],
 "metadata": {
  "kernelspec": {
   "display_name": "Python 3",
   "language": "python",
   "name": "python3"
  }
 },
 "nbformat": 4,
 "nbformat_minor": 2
}
