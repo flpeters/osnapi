{
 "cells": [
  {
   "cell_type": "code",
   "execution_count": null,
   "metadata": {},
   "outputs": [],
   "source": [
    "#hide\n",
    "import osnapi as api"
   ]
  },
  {
   "cell_type": "markdown",
   "metadata": {},
   "source": [
    "# osnapi\n",
    "\n",
    "> Unofficial opensense.network API  \n",
    "> Developed as part of a student project at TU Berlin"
   ]
  },
  {
   "cell_type": "markdown",
   "metadata": {},
   "source": [
    "If you want to submit data yourself, you can get in touch at https://opensense.network/"
   ]
  },
  {
   "cell_type": "markdown",
   "metadata": {},
   "source": [
    "The official documentation can be found here: https://www.opensense.network/progprak/beta/apidocs/#/  "
   ]
  },
  {
   "cell_type": "markdown",
   "metadata": {},
   "source": [
    "The docs for this Project are available at: https://flpeters.github.io/osnapi/"
   ]
  },
  {
   "cell_type": "markdown",
   "metadata": {},
   "source": [
    "An example of a project using this api is: https://github.com/flamestro/serverless_opensense_dwd_importer  \n",
    "In that project we implement a data importer that downloads data from https://www.dwd.de/ and pushes that data to opensense."
   ]
  },
  {
   "cell_type": "markdown",
   "metadata": {},
   "source": [
    "## What is https://opensense.network/?"
   ]
  },
  {
   "cell_type": "markdown",
   "metadata": {},
   "source": [
    "OpenSense is \"A participatory open sensor data platform\", making a uniform data format for a variety of open source weather data sources available to the public."
   ]
  },
  {
   "cell_type": "markdown",
   "metadata": {},
   "source": [
    "## Install"
   ]
  },
  {
   "cell_type": "markdown",
   "metadata": {},
   "source": [
    "To use this module in your project, you have multiple options. The easiest is to install it using the `pip` packetmanager:\n",
    "\n",
    "    pip install osnapi\n",
    "    \n",
    "You can also clone this repo and create an editable install, in case you want to customize e.g. the error messages behaviour:\n",
    "\n",
    "    git clone <this repo>\n",
    "    cd <this repo>\n",
    "    pip install -e .\n",
    "    \n",
    "This module uses [nbdev](https://github.com/fastai/nbdev), a jupyter notebook based environment. If you go for the editable install, we recommend you to take a short look at nbdev first.\n",
    "\n",
    "If you want a lightweight portable module, you can also just copy the __osnapi__ folder into your project. No installation necessary."
   ]
  },
  {
   "cell_type": "markdown",
   "metadata": {},
   "source": [
    "## How to use"
   ]
  },
  {
   "cell_type": "markdown",
   "metadata": {},
   "source": [
    "Once you have installed this module using any of the methods above, you can use\n",
    "\n",
    "    import osnapi as api\n",
    "    \n",
    "and start coding."
   ]
  },
  {
   "cell_type": "markdown",
   "metadata": {},
   "source": [
    "If you want to use functions that require a login, use:\n",
    "\n",
    "    api.login(username, password)\n",
    "    \n",
    "The default api_enpoint is https://www.opensense.network/beta/api/v1.0/. It is also stored inside the `Settings` object."
   ]
  },
  {
   "cell_type": "markdown",
   "metadata": {},
   "source": [
    "To change the `api_endpoint`, `username`, `password`, or `auth_token` manually, simply assign to the Settings objects class variables e.g. `api.Settings.username = 'Alice'`. It's important that you do not use an instance of Settings, but the class directly, because instanced changes will not be seen by the module.  \n",
    "To view your current settings, you can instantiate a Settings object with `api.Settings()`. Its string representation will display the current settings.  \n",
    "Except for the api_endpoint, the Settings are not defined when you import the package, and are not persisted when you reload. They are however automatically added when you use `api.login()`."
   ]
  },
  {
   "cell_type": "markdown",
   "metadata": {},
   "source": [
    "The authentication tokens you get from the server are JSON Web Tokens.  \n",
    "A Token is valid for one hour, but will automatically be reaquired using the credentials saved in Settings, once it runs out."
   ]
  },
  {
   "cell_type": "markdown",
   "metadata": {},
   "source": [
    "For an overview and documentation of the available functionality, check out the links at the top of this README"
   ]
  }
 ],
 "metadata": {
  "kernelspec": {
   "display_name": "Python 3",
   "language": "python",
   "name": "python3"
  }
 },
 "nbformat": 4,
 "nbformat_minor": 2
}
