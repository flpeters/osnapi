{
 "cells": [
  {
   "cell_type": "code",
   "execution_count": null,
   "metadata": {},
   "outputs": [],
   "source": [
    "import osnapi as api"
   ]
  },
  {
   "cell_type": "code",
   "execution_count": null,
   "metadata": {},
   "outputs": [
    {
     "data": {
      "text/plain": [
       "api_endpoint:\thttps://www.opensense.network/beta/api/v1.0/\n",
       "username:\tNone\n",
       "password:\tNone\n",
       "auth_token:\tNone"
      ]
     },
     "execution_count": null,
     "metadata": {},
     "output_type": "execute_result"
    }
   ],
   "source": [
    "api.Settings()"
   ]
  },
  {
   "cell_type": "code",
   "execution_count": null,
   "metadata": {},
   "outputs": [],
   "source": [
    "api.Settings.username = ''"
   ]
  },
  {
   "cell_type": "code",
   "execution_count": null,
   "metadata": {},
   "outputs": [],
   "source": [
    "api.Settings.password = ''"
   ]
  },
  {
   "cell_type": "code",
   "execution_count": null,
   "metadata": {},
   "outputs": [],
   "source": [
    "api.Settings.api_endpoint = 'https://www.opensense.network/beta/api/v1.0/'"
   ]
  },
  {
   "cell_type": "code",
   "execution_count": null,
   "metadata": {},
   "outputs": [
    {
     "name": "stdout",
     "output_type": "stream",
     "text": [
      "no credentials\n"
     ]
    }
   ],
   "source": [
    "if api.Settings.username and api.Settings.password:\n",
    "    api.login(_username, _password)\n",
    "else: print('no credentials')"
   ]
  },
  {
   "cell_type": "code",
   "execution_count": null,
   "metadata": {},
   "outputs": [
    {
     "data": {
      "text/plain": [
       "[{'id': 1,\n",
       "  'userId': 1,\n",
       "  'measurandId': 1,\n",
       "  'unitId': 1,\n",
       "  'location': {'lat': 1.0, 'lng': 1.0},\n",
       "  'altitudeAboveGround': 0.0,\n",
       "  'directionVertical': 0,\n",
       "  'directionHorizontal': 0,\n",
       "  'sensorModel': 'some',\n",
       "  'accuracy': 0,\n",
       "  'attributionText': 'some',\n",
       "  'attributionURL': 'http://tu.berlin',\n",
       "  'licenseId': 1},\n",
       " {'id': 2,\n",
       "  'userId': 1,\n",
       "  'measurandId': 1,\n",
       "  'unitId': 1,\n",
       "  'location': {'lat': 1.0, 'lng': 1.0},\n",
       "  'altitudeAboveGround': 0.0,\n",
       "  'directionVertical': 0,\n",
       "  'directionHorizontal': 0,\n",
       "  'sensorModel': 'some',\n",
       "  'accuracy': 0,\n",
       "  'attributionText': 'some',\n",
       "  'attributionURL': 'http://tu.berlin',\n",
       "  'licenseId': 1}]"
      ]
     },
     "execution_count": null,
     "metadata": {},
     "output_type": "execute_result"
    }
   ],
   "source": [
    "api.getSensors(measurandId=1, maxSensors=2)"
   ]
  },
  {
   "cell_type": "code",
   "execution_count": null,
   "metadata": {},
   "outputs": [
    {
     "data": {
      "text/plain": [
       "{'id': 2,\n",
       " 'userId': 1,\n",
       " 'measurandId': 1,\n",
       " 'unitId': 1,\n",
       " 'location': {'lat': 1.0, 'lng': 1.0},\n",
       " 'altitudeAboveGround': 0.0,\n",
       " 'directionVertical': 0,\n",
       " 'directionHorizontal': 0,\n",
       " 'sensorModel': 'some',\n",
       " 'accuracy': 0,\n",
       " 'attributionText': 'some',\n",
       " 'attributionURL': 'http://tu.berlin',\n",
       " 'licenseId': 1}"
      ]
     },
     "execution_count": null,
     "metadata": {},
     "output_type": "execute_result"
    }
   ],
   "source": [
    "api.getSensor(id=2)"
   ]
  },
  {
   "cell_type": "code",
   "execution_count": null,
   "metadata": {},
   "outputs": [
    {
     "name": "stdout",
     "output_type": "stream",
     "text": [
      "{'id': 39031, 'userId': 2, 'measurandId': 1, 'unitId': 1, 'location': {'lat': 1.0, 'lng': 1.0}, 'altitudeAboveGround': 0.0, 'directionVertical': 0, 'directionHorizontal': 0, 'sensorModel': 'test_string', 'accuracy': 0, 'attributionText': 'test_string', 'attributionURL': 'test_url', 'licenseId': 1}\n"
     ]
    }
   ],
   "source": [
    "if api.Settings.auth_token:\n",
    "    _s = api.addSensor(body={\"measurandId\": 1,\n",
    "                    \"unitId\": 1,\n",
    "                    \"location\": {\"lat\": 1.0, \"lng\": 1.0},\n",
    "                    \"licenseId\": 1,\n",
    "                    \"altitudeAboveGround\": 0.0,\n",
    "                    \"directionVertical\": 0,\n",
    "                    \"directionHorizontal\": 0,\n",
    "                    \"sensorModel\": \"test_string\",\n",
    "                    \"accuracy\": 0,\n",
    "                    \"attributionText\": \"test_string\",\n",
    "                    \"attributionURL\": \"test_url\"})\n",
    "    print(_s)\n",
    "else: print('no credentials')"
   ]
  },
  {
   "cell_type": "code",
   "execution_count": null,
   "metadata": {},
   "outputs": [
    {
     "name": "stdout",
     "output_type": "stream",
     "text": [
      "OK\n"
     ]
    }
   ],
   "source": [
    "if api.Settings.auth_token:\n",
    "    print(api.deleteSensor(id=_s['id']))\n",
    "else: print('no credentials')"
   ]
  },
  {
   "cell_type": "code",
   "execution_count": null,
   "metadata": {},
   "outputs": [
    {
     "name": "stdout",
     "output_type": "stream",
     "text": [
      "{'id': 2637, 'userId': 2, 'measurandId': 1, 'unitId': 1, 'location': {'lat': 52.89, 'lng': 8.23}, 'altitudeAboveGround': 2.0, 'directionVertical': 0, 'directionHorizontal': 2, 'sensorModel': 'DWD station', 'accuracy': 10, 'attributionText': 'Deutscher Wetterdienst (DWD)', 'attributionURL': 'ftp://ftp-cdc.dwd.de/pub/CDC/', 'licenseId': 4}\n"
     ]
    }
   ],
   "source": [
    "if api.Settings.auth_token:\n",
    "    print(api.mySensors()[0])\n",
    "else: print('no credentials')"
   ]
  },
  {
   "cell_type": "code",
   "execution_count": null,
   "metadata": {},
   "outputs": [
    {
     "name": "stdout",
     "output_type": "stream",
     "text": [
      "[2637, 2638, 2639, 2640, 2641, 2642, 2643, 2644, 2645, 2646]\n"
     ]
    }
   ],
   "source": [
    "if api.Settings.auth_token:\n",
    "    print(api.mySensorIds()[:10])\n",
    "else: print('no credentials')"
   ]
  },
  {
   "cell_type": "code",
   "execution_count": null,
   "metadata": {},
   "outputs": [
    {
     "data": {
      "text/plain": [
       "{'id': 1,\n",
       " 'userId': 1,\n",
       " 'measurandId': 1,\n",
       " 'unitId': 1,\n",
       " 'location': {'lat': 1.0, 'lng': 1.0},\n",
       " 'altitudeAboveGround': 0.0,\n",
       " 'directionVertical': 0,\n",
       " 'directionHorizontal': 0,\n",
       " 'sensorModel': 'some',\n",
       " 'accuracy': 0,\n",
       " 'attributionText': 'some',\n",
       " 'attributionURL': 'http://tu.berlin',\n",
       " 'licenseId': 1,\n",
       " 'values': [{'timestamp': '2020-07-28T10:00:00.0Z',\n",
       "   'numberValue': 3.140000104904175},\n",
       "  {'timestamp': '2020-07-28T10:00:00.0Z', 'numberValue': 3.140000104904175}]}"
      ]
     },
     "execution_count": null,
     "metadata": {},
     "output_type": "execute_result"
    }
   ],
   "source": [
    "api.getFirstLastValueForSensor(id=1, first=True, last=True)"
   ]
  },
  {
   "cell_type": "code",
   "execution_count": null,
   "metadata": {},
   "outputs": [
    {
     "data": {
      "text/plain": [
       "[{'id': 2637,\n",
       "  'userId': 2,\n",
       "  'measurandId': 1,\n",
       "  'unitId': 1,\n",
       "  'location': {'lat': 52.89, 'lng': 8.23},\n",
       "  'altitudeAboveGround': 2.0,\n",
       "  'directionVertical': 0,\n",
       "  'directionHorizontal': 2,\n",
       "  'sensorModel': 'DWD station',\n",
       "  'accuracy': 10,\n",
       "  'attributionText': 'Deutscher Wetterdienst (DWD)',\n",
       "  'attributionURL': 'ftp://ftp-cdc.dwd.de/pub/CDC/',\n",
       "  'licenseId': 4,\n",
       "  'values': [{'timestamp': '2019-11-23T01:05:21.0Z', 'numberValue': 4.0},\n",
       "   {'timestamp': '2019-11-23T02:52:09.0Z', 'numberValue': 84.0},\n",
       "   {'timestamp': '2019-11-23T03:18:03.0Z', 'numberValue': 98.0},\n",
       "   {'timestamp': '2019-11-23T04:27:40.0Z', 'numberValue': 88.0},\n",
       "   {'timestamp': '2019-11-23T06:12:32.0Z', 'numberValue': 53.0},\n",
       "   {'timestamp': '2019-11-23T10:05:19.0Z', 'numberValue': 17.0},\n",
       "   {'timestamp': '2019-11-23T15:02:12.0Z', 'numberValue': 39.0},\n",
       "   {'timestamp': '2019-11-23T18:51:17.0Z', 'numberValue': 86.0},\n",
       "   {'timestamp': '2019-11-23T19:15:45.0Z', 'numberValue': 32.0},\n",
       "   {'timestamp': '2019-11-23T20:32:21.0Z', 'numberValue': 68.0},\n",
       "   {'timestamp': '2019-11-23T21:38:44.0Z', 'numberValue': 24.0},\n",
       "   {'timestamp': '2019-11-23T21:55:08.0Z', 'numberValue': 1.0},\n",
       "   {'timestamp': '2019-11-23T23:12:28.0Z', 'numberValue': 79.0},\n",
       "   {'timestamp': '2019-11-23T23:37:13.0Z', 'numberValue': 60.0}]}]"
      ]
     },
     "execution_count": null,
     "metadata": {},
     "output_type": "execute_result"
    }
   ],
   "source": [
    "api.getValues(measurandId=1, maxSensors=100,\n",
    "              minTimestamp=\"2019-11-23T00:00:00.000Z\",\n",
    "              maxTimestamp=\"2019-11-24T00:00:00.000Z\")"
   ]
  },
  {
   "cell_type": "code",
   "execution_count": null,
   "metadata": {},
   "outputs": [
    {
     "data": {
      "text/plain": [
       "{'id': 1,\n",
       " 'userId': 1,\n",
       " 'measurandId': 1,\n",
       " 'unitId': 1,\n",
       " 'location': {'lat': 1.0, 'lng': 1.0},\n",
       " 'altitudeAboveGround': 0.0,\n",
       " 'directionVertical': 0,\n",
       " 'directionHorizontal': 0,\n",
       " 'sensorModel': 'some',\n",
       " 'accuracy': 0,\n",
       " 'attributionText': 'some',\n",
       " 'attributionURL': 'http://tu.berlin',\n",
       " 'licenseId': 1,\n",
       " 'values': [{'timestamp': '2020-07-28T10:00:00.0Z',\n",
       "   'numberValue': 3.140000104904175}]}"
      ]
     },
     "execution_count": null,
     "metadata": {},
     "output_type": "execute_result"
    }
   ],
   "source": [
    "api.getValuesForSensor(id=1)"
   ]
  },
  {
   "cell_type": "code",
   "execution_count": null,
   "metadata": {},
   "outputs": [],
   "source": [
    "if api.Settings.auth_token:\n",
    "    api.addValue(body={\"sensorId\": 2637,\n",
    "                       \"timestamp\": \"2019-11-23T01:23:45.678Z\",\n",
    "                       \"numberValue\": 1.0})\n",
    "else: print('no credentials')"
   ]
  },
  {
   "cell_type": "code",
   "execution_count": null,
   "metadata": {},
   "outputs": [],
   "source": [
    "if api.Settings.auth_token:\n",
    "    api.addMultipleValues({\"collapsedMessages\":\n",
    "                           [{\"sensorId\": 2637,\n",
    "                             \"timestamp\": \"2019-11-23T11:23:45.678Z\",\n",
    "                             \"numberValue\": 2.0},\n",
    "                            {\"sensorId\": 2638,\n",
    "                             \"timestamp\": \"2019-11-23T21:23:45.678Z\",\n",
    "                             \"numberValue\": 3.1,}\n",
    "                           ]\n",
    "                          })\n",
    "else: print('no credentials')"
   ]
  },
  {
   "cell_type": "code",
   "execution_count": null,
   "metadata": {},
   "outputs": [
    {
     "data": {
      "text/plain": [
       "[{'id': 1, 'name': 'temperature', 'defaultUnitId': 1},\n",
       " {'id': 2, 'name': 'noise', 'defaultUnitId': 4},\n",
       " {'id': 3, 'name': 'humidity', 'defaultUnitId': 7},\n",
       " {'id': 4, 'name': 'brightness', 'defaultUnitId': 5},\n",
       " {'id': 5, 'name': 'air_pressure', 'defaultUnitId': 8},\n",
       " {'id': 6, 'name': 'wind_speed', 'defaultUnitId': 10},\n",
       " {'id': 7, 'name': 'wind_direction', 'defaultUnitId': 12},\n",
       " {'id': 8, 'name': 'cloudiness', 'defaultUnitId': 14},\n",
       " {'id': 9, 'name': 'precipitation_amount', 'defaultUnitId': 18},\n",
       " {'id': 10, 'name': 'precipitation_type', 'defaultUnitId': 19},\n",
       " {'id': 11, 'name': 'pm10', 'defaultUnitId': 20},\n",
       " {'id': 12, 'name': 'pm2_5', 'defaultUnitId': 21},\n",
       " {'id': 13, 'name': 'solar_radiation', 'defaultUnitId': 22},\n",
       " {'id': 14, 'name': 'CO', 'defaultUnitId': 23},\n",
       " {'id': 15, 'name': 'NO2', 'defaultUnitId': 24},\n",
       " {'id': 16, 'name': 'O3', 'defaultUnitId': 25},\n",
       " {'id': 17, 'name': 'SO2', 'defaultUnitId': 26}]"
      ]
     },
     "execution_count": null,
     "metadata": {},
     "output_type": "execute_result"
    }
   ],
   "source": [
    "api.getMeasurands()"
   ]
  },
  {
   "cell_type": "code",
   "execution_count": null,
   "metadata": {},
   "outputs": [
    {
     "data": {
      "text/plain": [
       "{'id': 1, 'name': 'temperature', 'defaultUnitId': 1}"
      ]
     },
     "execution_count": null,
     "metadata": {},
     "output_type": "execute_result"
    }
   ],
   "source": [
    "api.getMeasurand(id=1)"
   ]
  },
  {
   "cell_type": "code",
   "execution_count": null,
   "metadata": {},
   "outputs": [
    {
     "data": {
      "text/plain": [
       "{'id': 1,\n",
       " 'shortName': 'ODC-PDDL-1.0',\n",
       " 'fullName': 'Open Data Commons Public Domain Dedication and License',\n",
       " 'version': 1,\n",
       " 'referenceLink': 'https://opendatacommons.org/licenses/pddl/1.0/',\n",
       " 'description': 'A generic, highly permissive license to be used for open data internationally',\n",
       " 'allowsRedistribution': True,\n",
       " 'allowsDerivatives': True,\n",
       " 'requiresAttribution': False,\n",
       " 'requiresShareAlike': False,\n",
       " 'requiresKeepOpen': False,\n",
       " 'requiresChangeNote': False}"
      ]
     },
     "execution_count": null,
     "metadata": {},
     "output_type": "execute_result"
    }
   ],
   "source": [
    "api.getLicenses()[0]"
   ]
  },
  {
   "cell_type": "code",
   "execution_count": null,
   "metadata": {},
   "outputs": [
    {
     "data": {
      "text/plain": [
       "{'id': 1,\n",
       " 'shortName': 'ODC-PDDL-1.0',\n",
       " 'fullName': 'Open Data Commons Public Domain Dedication and License',\n",
       " 'version': 1,\n",
       " 'referenceLink': 'https://opendatacommons.org/licenses/pddl/1.0/',\n",
       " 'description': 'A generic, highly permissive license to be used for open data internationally',\n",
       " 'allowsRedistribution': True,\n",
       " 'allowsDerivatives': True,\n",
       " 'requiresAttribution': False,\n",
       " 'requiresShareAlike': False,\n",
       " 'requiresKeepOpen': False,\n",
       " 'requiresChangeNote': False}"
      ]
     },
     "execution_count": null,
     "metadata": {},
     "output_type": "execute_result"
    }
   ],
   "source": [
    "api.getLicense(id=1)"
   ]
  },
  {
   "cell_type": "code",
   "execution_count": null,
   "metadata": {},
   "outputs": [
    {
     "data": {
      "text/plain": [
       "[{'id': 1, 'name': 'celsius', 'measurandId': 1},\n",
       " {'id': 4, 'name': 'decibel', 'measurandId': 2},\n",
       " {'id': 7, 'name': 'percent', 'measurandId': 3},\n",
       " {'id': 5, 'name': 'lux', 'measurandId': 4},\n",
       " {'id': 8, 'name': 'hPa', 'measurandId': 5},\n",
       " {'id': 10, 'name': 'm/s', 'measurandId': 6},\n",
       " {'id': 12, 'name': 'degrees', 'measurandId': 7},\n",
       " {'id': 14, 'name': 'level', 'measurandId': 8},\n",
       " {'id': 18, 'name': 'mm', 'measurandId': 9},\n",
       " {'id': 19, 'name': 'enum', 'measurandId': 10},\n",
       " {'id': 20, 'name': 'ug/m3', 'measurandId': 11},\n",
       " {'id': 21, 'name': 'ug/m3', 'measurandId': 12},\n",
       " {'id': 22, 'name': 'j/cm2', 'measurandId': 13},\n",
       " {'id': 23, 'name': 'mg/m3', 'measurandId': 14},\n",
       " {'id': 24, 'name': 'ug/m3', 'measurandId': 15},\n",
       " {'id': 25, 'name': 'ug/m3', 'measurandId': 16},\n",
       " {'id': 26, 'name': 'ug/m3', 'measurandId': 17},\n",
       " {'id': 2, 'name': 'fahrenheit', 'measurandId': 1},\n",
       " {'id': 3, 'name': 'kelvin', 'measurandId': 1},\n",
       " {'id': 6, 'name': 'lumen', 'measurandId': 4},\n",
       " {'id': 9, 'name': 'mbar', 'measurandId': 5},\n",
       " {'id': 11, 'name': 'km/h', 'measurandId': 6}]"
      ]
     },
     "execution_count": null,
     "metadata": {},
     "output_type": "execute_result"
    }
   ],
   "source": [
    "api.getUnits()"
   ]
  },
  {
   "cell_type": "code",
   "execution_count": null,
   "metadata": {},
   "outputs": [
    {
     "data": {
      "text/plain": [
       "{'id': 1, 'name': 'celsius', 'measurandId': 1}"
      ]
     },
     "execution_count": null,
     "metadata": {},
     "output_type": "execute_result"
    }
   ],
   "source": [
    "api.getUnit(id=1)"
   ]
  }
 ],
 "metadata": {
  "kernelspec": {
   "display_name": "Python 3",
   "language": "python",
   "name": "python3"
  }
 },
 "nbformat": 4,
 "nbformat_minor": 4
}
